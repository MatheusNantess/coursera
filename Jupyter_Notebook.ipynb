{
 "cells": [
  {
   "cell_type": "markdown",
   "metadata": {},
   "source": [
    "<center>\n",
    "    <img src=\"https://cf-courses-data.s3.us.cloud-object-storage.appdomain.cloud/IBMDeveloperSkillsNetwork-DS0105EN-SkillsNetwork/labs/Module2/images/SN_web_lightmode.png\" width=\"300\" alt=\"cognitiveclass.ai logo\">\n",
    "</center>\n"
   ]
  },
  {
   "cell_type": "markdown",
   "metadata": {},
   "source": [
    "#Titulo do markdow xd\n"
   ]
  },
  {
   "cell_type": "markdown",
   "metadata": {},
   "source": [
    "intrudocao do notebook"
   ]
  },
  {
   "cell_type": "markdown",
   "metadata": {},
   "source": [
    "Linguagens:\n",
    "Python\n",
    "R\n",
    "Julia\n",
    "Java\n",
    "C ++"
   ]
  },
  {
   "cell_type": "markdown",
   "metadata": {},
   "source": [
    "Scikit-learn \n",
    "pandas\n",
    "numpy\n",
    "seaborn\n",
    "matplotlib\n",
    "tensorflow\n",
    "pytorch\n"
   ]
  },
  {
   "cell_type": "markdown",
   "metadata": {},
   "source": [
    "| Ferramenta       | Descrição                                      | Tipo           |\n",
    "|------------------|------------------------------------------------|----------------|\n",
    "| Jupyter Notebook | Ambiente interativo de desenvolvimento         | IDE            |\n",
    "| Pandas           | Biblioteca para manipulação de dados           | Biblioteca     |\n",
    "| Matplotlib       | Biblioteca para criação de gráficos            | Biblioteca     |\n",
    "| Scikit-learn     | Biblioteca para aprendizado de máquina         | Biblioteca     |\n",
    "| TensorFlow       | Framework para aprendizado profundo            | Framework      |\n",
    "| R                | Linguagem de programação para estatística      | Linguagem      ||\n",
    "| SQL              | Linguagem para gerenciamento de bancos de dados| Linguagem\n"
   ]
  },
  {
   "cell_type": "markdown",
   "metadata": {},
   "source": [
    "#exemplo 1: 2 + 2 = 4\n",
    "#exemplo 2: 4 /5 = 0,8\n"
   ]
  },
  {
   "cell_type": "code",
   "execution_count": 1,
   "metadata": {
    "tags": []
   },
   "outputs": [
    {
     "name": "stdout",
     "output_type": "stream",
     "text": [
      "180\n"
     ]
    }
   ],
   "source": [
    "horas = 3\n",
    "minutos = horas * 60\n",
    "print(minutos)"
   ]
  },
  {
   "cell_type": "markdown",
   "metadata": {},
   "source": [
    "# Objetivos\n",
    "\n",
    "- **Entender os fundamentos da ciência de dados.**\n",
    "- **Aplicar técnicas de análise de dados em conjuntos de dados reais.**\n",
    "- **Desenvolver modelos de machine learning para resolver problemas específicos.**\n",
    "- **Visualizar dados de maneira eficaz para comunicar insights.**\n",
    "- **Aprender a usar ferramentas e bibliotecas relevantes na área de ciência de dados.**"
   ]
  },
  {
   "cell_type": "markdown",
   "metadata": {},
   "source": [
    "Autor: Matheus"
   ]
  },
  {
   "cell_type": "code",
   "execution_count": null,
   "metadata": {},
   "outputs": [],
   "source": []
  }
 ],
 "metadata": {
  "kernelspec": {
   "display_name": "Python",
   "language": "python",
   "name": "conda-env-python-py"
  },
  "language_info": {
   "codemirror_mode": {
    "name": "ipython",
    "version": 3
   },
   "file_extension": ".py",
   "mimetype": "text/x-python",
   "name": "python",
   "nbconvert_exporter": "python",
   "pygments_lexer": "ipython3",
   "version": "3.7.12"
  }
 },
 "nbformat": 4,
 "nbformat_minor": 4
}
